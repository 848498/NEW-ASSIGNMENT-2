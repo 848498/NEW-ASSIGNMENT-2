{
 "cells": [
  {
   "cell_type": "markdown",
   "metadata": {},
   "source": [
    "Question 1- Write a RegEx pattern in python program to check that a string contains only a certain set of characters (in this case a-z, A-Z and 0-9)."
   ]
  },
  {
   "cell_type": "code",
   "execution_count": 100,
   "metadata": {},
   "outputs": [
    {
     "name": "stdout",
     "output_type": "stream",
     "text": [
      "True\n",
      "False\n"
     ]
    }
   ],
   "source": [
    "import re\n",
    "def is_allowed_specific_char(string):\n",
    "    charRe = re.compile(r'[^a-zA-Z0-9]')\n",
    "    string = charRe .search(string)\n",
    "    return not bool(string)\n",
    "print(is_allowed_specific_char(\"ABCDEFabcdef123450\"))\n",
    "print(is_allowed_specific_char(\"*&%@#!}{\"))\n"
   ]
  },
  {
   "cell_type": "markdown",
   "metadata": {},
   "source": [
    "Question-2 Write a regex pattern that has an  followed by zero or more b's"
   ]
  },
  {
   "cell_type": "code",
   "execution_count": 101,
   "metadata": {},
   "outputs": [],
   "source": [
    "import re\n",
    "def text_match(text):\n",
    "    patterns = '^a(b*)$'\n",
    "    if re.search(patterns, text):\n",
    "        return 'Found a match!'\n",
    "    else:\n",
    "        return('Not matched!')\n",
    "    print(text_match(\"ac\"))\n",
    "    print(text_match(\"abc\"))\n",
    "    print(text_match(\"a\"))\n",
    "    print(text_match(\"ab\"))\n",
    "    print(text_match(\"abb\"))\n",
    "    "
   ]
  },
  {
   "cell_type": "markdown",
   "metadata": {},
   "source": []
  },
  {
   "cell_type": "markdown",
   "metadata": {},
   "source": [
    "Question-3 Write a Regex pattern that matches a string that has an a followed by one or more b's"
   ]
  },
  {
   "cell_type": "code",
   "execution_count": 102,
   "metadata": {},
   "outputs": [
    {
     "name": "stdout",
     "output_type": "stream",
     "text": [
      "Found a match!\n",
      "Found a match!\n"
     ]
    }
   ],
   "source": [
    "import re \n",
    "def text_match(text):\n",
    "    patterns = 'ab+?'\n",
    "    if re.search(patterns, text):\n",
    "        return 'Found a match!'\n",
    "    else:\n",
    "        return('Not matched!')\n",
    "print(text_match(\"ab\"))\n",
    "print(text_match(\"abc\"))"
   ]
  },
  {
   "cell_type": "markdown",
   "metadata": {},
   "source": [
    "Question-4 Write a Regex pattern that matches a string that has an a followed by zero or one 'b'"
   ]
  },
  {
   "cell_type": "code",
   "execution_count": 103,
   "metadata": {},
   "outputs": [],
   "source": [
    "import re\n",
    "def text_match(text):\n",
    "    patterns = 'ab?'\n",
    "    if re.search(patterns, text):\n",
    "        return 'Found a match!'\n",
    "    else:\n",
    "        return('Not matched!')\n",
    "    print(text_match(\"ab\"))\n",
    "    print(text_match(\"abc\"))\n",
    "    print(text_match(\"abc\"))\n",
    "    print(text_match(\"aabbc\"))"
   ]
  },
  {
   "cell_type": "markdown",
   "metadata": {},
   "source": [
    "Question-5 Write a Regex pattern in python program that matches a string that has an a followed by three 'b'"
   ]
  },
  {
   "cell_type": "code",
   "execution_count": 104,
   "metadata": {},
   "outputs": [],
   "source": [
    "import re\n",
    "def text_match(text):\n",
    "    patterns = 'ab{3}?'\n",
    "    if re.search(patterns, text):\n",
    "        return 'Found a match!'\n",
    "    else:\n",
    "        return('Not matched!')\n",
    "    print(text_match(\"abbb\"))\n",
    "    print(text_match(\"aabbbbbc\"))\n",
    "    "
   ]
  },
  {
   "cell_type": "markdown",
   "metadata": {},
   "source": [
    "Question-6 Write a Regex pattern in python program that matches a string has an a followed by two to three 'b'"
   ]
  },
  {
   "cell_type": "code",
   "execution_count": 105,
   "metadata": {},
   "outputs": [],
   "source": [
    "import re\n",
    "def text_match(text):\n",
    "    patterns = 'ab{2,3}'\n",
    "    if re.search(patterns, text):\n",
    "        return 'Found a match!'\n",
    "    else:\n",
    "        return('Not matched!')\n",
    "    print(text_match(\"ab\"))\n",
    "    print(text_match(\"aabbbbbc\"))"
   ]
  },
  {
   "cell_type": "markdown",
   "metadata": {},
   "source": [
    "Question-7 Write a python program that matches a string that has an a followed by anything ending in 'b'"
   ]
  },
  {
   "cell_type": "code",
   "execution_count": 106,
   "metadata": {},
   "outputs": [],
   "source": [
    "import re\n",
    "def text_match(text):\n",
    "    patterns = 'a.*?b$'\n",
    "    if re.search(patterns, text):\n",
    "        return 'Found a match!'\n",
    "    else:\n",
    "        return('Not matched!')\n",
    "    print(text_match(\"aabbbbd\"))\n",
    "    print(text_match(\"aabAbbbc\"))\n",
    "    print(text_match(\"accddbbjjjb\"))\n",
    "    \n",
    "    \n",
    "\n",
    "\n",
    "\n"
   ]
  },
  {
   "cell_type": "markdown",
   "metadata": {},
   "source": [
    "Question-8 Write a Regex pattern python program that matches a word at the begininning of a string"
   ]
  },
  {
   "cell_type": "code",
   "execution_count": 107,
   "metadata": {},
   "outputs": [],
   "source": [
    "import re \n",
    "def text_match(text):\n",
    "    patterns = '^\\w+'\n",
    "    if re.search(patterns, text):\n",
    "            return 'Found a match!'\n",
    "    else:\n",
    "        return('Not matched!')\n",
    "    \n",
    "    print(text_match(\"The quick brown fox jumps over the lazy dog.\"))\n",
    "    print(text_match(\" The quick brown fox jumps over the lazy dog.\"))\n",
    "\n",
    "    "
   ]
  },
  {
   "cell_type": "markdown",
   "metadata": {},
   "source": [
    "Question-9 Write a Regex pattern in python that matches a word at the end of string"
   ]
  },
  {
   "cell_type": "code",
   "execution_count": 108,
   "metadata": {},
   "outputs": [],
   "source": [
    "import re \n",
    "def text_match(text):\n",
    "    patterns = '\\w+\\s*$'\n",
    "    if re.search(patterns, text):\n",
    "        return 'Found a match!'\n",
    "    else:\n",
    "        return('Not matched!')\n",
    "    print(text_match(\"The quick brown fox jumps over the lazy dog.\"))\n",
    "    print(text_match(\"The quick brown fox jumps over the lazy dog.\"))\n",
    "    print(text_match(\"The quick brown fox jumps over the lazy dog \"))"
   ]
  },
  {
   "cell_type": "markdown",
   "metadata": {},
   "source": [
    "Question 10- Write a RegEx pattern in python program to find all words that are 4 digits long in a string.\n",
    "Sample text- '01 0132 231875 1458 301 2725.'\n",
    "Expected output- ['0132', '1458', '2725']\n"
   ]
  },
  {
   "cell_type": "code",
   "execution_count": 109,
   "metadata": {},
   "outputs": [
    {
     "name": "stdout",
     "output_type": "stream",
     "text": [
      "['The', 'quick', 'brown', 'fox', 'jumps', 'over', 'the', 'lazy', 'dog']\n"
     ]
    }
   ],
   "source": [
    "import re \n",
    "text = 'The quick brown fox jumps over the lazy dog.'\n",
    "print(re.findall(r\"\\b\\w{3,5}\\b\", text))\n"
   ]
  }
 ],
 "metadata": {
  "kernelspec": {
   "display_name": "Python 3",
   "language": "python",
   "name": "python3"
  },
  "language_info": {
   "codemirror_mode": {
    "name": "ipython",
    "version": 3
   },
   "file_extension": ".py",
   "mimetype": "text/x-python",
   "name": "python",
   "nbconvert_exporter": "python",
   "pygments_lexer": "ipython3",
   "version": "3.11.5"
  },
  "orig_nbformat": 4
 },
 "nbformat": 4,
 "nbformat_minor": 2
}
